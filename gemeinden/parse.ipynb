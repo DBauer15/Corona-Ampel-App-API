{
 "metadata": {
  "language_info": {
   "codemirror_mode": {
    "name": "ipython",
    "version": 3
   },
   "file_extension": ".py",
   "mimetype": "text/x-python",
   "name": "python",
   "nbconvert_exporter": "python",
   "pygments_lexer": "ipython3",
   "version": "3.8.1-final"
  },
  "orig_nbformat": 2,
  "kernelspec": {
   "name": "python_defaultSpec_1600779106267",
   "display_name": "Python 3.8.1 64-bit ('Corona-Ampel-App-API': pipenv)"
  }
 },
 "nbformat": 4,
 "nbformat_minor": 2,
 "cells": [
  {
   "cell_type": "code",
   "execution_count": 125,
   "metadata": {},
   "outputs": [],
   "source": [
    "import pandas as pd\n",
    "import numpy as np\n",
    "import json"
   ]
  },
  {
   "cell_type": "code",
   "execution_count": 126,
   "metadata": {},
   "outputs": [],
   "source": [
    "def to_list(s):\n",
    "    if s == -1:\n",
    "        return []\n",
    "    else:\n",
    "        nums = s.split()\n",
    "        for i in range(len(nums)):\n",
    "            nums[i] = int(nums[i])\n",
    "        return np.array(nums)"
   ]
  },
  {
   "cell_type": "code",
   "execution_count": 127,
   "metadata": {
    "tags": []
   },
   "outputs": [],
   "source": [
    "gemeinden = pd.read_csv('./gemliste_knz-2.csv')\n",
    "gemeinden = gemeinden.fillna(-1)\n",
    "gemeinden['aPLZ'] = gemeinden['aPLZ'].apply(to_list)\n",
    "gemeinden['PLZ'] = gemeinden['PLZ'].apply(int)"
   ]
  },
  {
   "cell_type": "code",
   "execution_count": 132,
   "metadata": {},
   "outputs": [],
   "source": [
    "lookup = {}\n",
    "\n",
    "for index, row in gemeinden.iterrows():\n",
    "    lookup[row['PLZ']] = str(row['GKZ'])"
   ]
  },
  {
   "cell_type": "code",
   "execution_count": 133,
   "metadata": {},
   "outputs": [],
   "source": [
    "with open('./out.json', 'w') as file:\n",
    "    json.dump(lookup, fp=file)"
   ]
  },
  {
   "cell_type": "code",
   "execution_count": null,
   "metadata": {},
   "outputs": [],
   "source": []
  }
 ]
}